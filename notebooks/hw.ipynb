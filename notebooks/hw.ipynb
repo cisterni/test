{
 "metadata": {
  "name": "HelloCisterni"
 }, 
 "name": "HelloCisterni", 
 "nbformat": 2, 
 "worksheets": [
  {
   "cells": [
    {
     "cell_type": "code", 
     "collapsed": false, 
     "input": "print 'Hello Cisterni!'", 
     "language": "python", 
     "outputs": [
      {
       "output_type": "stream", 
       "stream": "stdout", 
       "text": "Hello Cisterni!"
      }
     ], 
     "prompt_number": 1
    }
   ]
  }
 ]
}